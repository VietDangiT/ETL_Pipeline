{
  "cells": [
    {
      "cell_type": "markdown",
      "metadata": {
        "id": "view-in-github",
        "colab_type": "text"
      },
      "source": [
        "<a href=\"https://colab.research.google.com/github/VietDangiT/ETL_Pipeline/blob/main/Data%20Engineer%20for%20ETL%3A%20Data%20Ingestion.ipynb\" target=\"_parent\"><img src=\"https://colab.research.google.com/assets/colab-badge.svg\" alt=\"Open In Colab\"/></a>"
      ]
    },
    {
      "cell_type": "markdown",
      "source": [
        "# Ingest Data using dlt and Python"
      ],
      "metadata": {
        "id": "zg2SsxiNxbml"
      }
    },
    {
      "cell_type": "code",
      "source": [
        "!pip install dlt duckdb pandas requests\n"
      ],
      "metadata": {
        "colab": {
          "base_uri": "https://localhost:8080/"
        },
        "collapsed": true,
        "id": "NqPcF5t1136u",
        "outputId": "0e16fe2f-6ea7-44e3-8712-f36ca5e60b67"
      },
      "execution_count": 2,
      "outputs": [
        {
          "output_type": "stream",
          "name": "stdout",
          "text": [
            "Requirement already satisfied: dlt in /usr/local/lib/python3.11/dist-packages (1.12.3)\n",
            "Requirement already satisfied: duckdb in /usr/local/lib/python3.11/dist-packages (1.2.2)\n",
            "Requirement already satisfied: pandas in /usr/local/lib/python3.11/dist-packages (2.2.2)\n",
            "Requirement already satisfied: requests in /usr/local/lib/python3.11/dist-packages (2.32.3)\n",
            "Requirement already satisfied: click>=7.1 in /usr/local/lib/python3.11/dist-packages (from dlt) (8.2.1)\n",
            "Requirement already satisfied: fsspec>=2022.4.0 in /usr/local/lib/python3.11/dist-packages (from dlt) (2025.3.2)\n",
            "Requirement already satisfied: gitpython>=3.1.29 in /usr/local/lib/python3.11/dist-packages (from dlt) (3.1.44)\n",
            "Requirement already satisfied: giturlparse>=0.10.0 in /usr/local/lib/python3.11/dist-packages (from dlt) (0.12.0)\n",
            "Requirement already satisfied: hexbytes>=0.2.2 in /usr/local/lib/python3.11/dist-packages (from dlt) (1.3.1)\n",
            "Requirement already satisfied: humanize>=4.4.0 in /usr/local/lib/python3.11/dist-packages (from dlt) (4.12.3)\n",
            "Requirement already satisfied: jsonpath-ng>=1.5.3 in /usr/local/lib/python3.11/dist-packages (from dlt) (1.7.0)\n",
            "Requirement already satisfied: orjson!=3.10.1,!=3.9.11,!=3.9.12,!=3.9.13,!=3.9.14,<4,>=3.6.7 in /usr/local/lib/python3.11/dist-packages (from dlt) (3.10.18)\n",
            "Requirement already satisfied: packaging>=21.1 in /usr/local/lib/python3.11/dist-packages (from dlt) (24.2)\n",
            "Requirement already satisfied: pathvalidate>=2.5.2 in /usr/local/lib/python3.11/dist-packages (from dlt) (3.3.1)\n",
            "Requirement already satisfied: pendulum>=2.1.2 in /usr/local/lib/python3.11/dist-packages (from dlt) (3.1.0)\n",
            "Requirement already satisfied: pluggy>=1.3.0 in /usr/local/lib/python3.11/dist-packages (from dlt) (1.6.0)\n",
            "Requirement already satisfied: pytz>=2022.6 in /usr/local/lib/python3.11/dist-packages (from dlt) (2025.2)\n",
            "Requirement already satisfied: pyyaml>=5.4.1 in /usr/local/lib/python3.11/dist-packages (from dlt) (6.0.2)\n",
            "Requirement already satisfied: requirements-parser>=0.5.0 in /usr/local/lib/python3.11/dist-packages (from dlt) (0.9.0)\n",
            "Requirement already satisfied: rich-argparse>=1.6.0 in /usr/local/lib/python3.11/dist-packages (from dlt) (1.7.1)\n",
            "Requirement already satisfied: semver>=3.0.0 in /usr/local/lib/python3.11/dist-packages (from dlt) (3.0.4)\n",
            "Requirement already satisfied: setuptools>=65.6.0 in /usr/local/lib/python3.11/dist-packages (from dlt) (75.2.0)\n",
            "Requirement already satisfied: simplejson>=3.17.5 in /usr/local/lib/python3.11/dist-packages (from dlt) (3.20.1)\n",
            "Requirement already satisfied: sqlglot>=25.4.0 in /usr/local/lib/python3.11/dist-packages (from dlt) (25.20.2)\n",
            "Requirement already satisfied: tenacity>=8.0.2 in /usr/local/lib/python3.11/dist-packages (from dlt) (8.5.0)\n",
            "Requirement already satisfied: tomlkit>=0.11.3 in /usr/local/lib/python3.11/dist-packages (from dlt) (0.13.3)\n",
            "Requirement already satisfied: typing-extensions>=4.8.0 in /usr/local/lib/python3.11/dist-packages (from dlt) (4.14.0)\n",
            "Requirement already satisfied: tzdata>=2022.1 in /usr/local/lib/python3.11/dist-packages (from dlt) (2025.2)\n",
            "Requirement already satisfied: numpy>=1.23.2 in /usr/local/lib/python3.11/dist-packages (from pandas) (2.0.2)\n",
            "Requirement already satisfied: python-dateutil>=2.8.2 in /usr/local/lib/python3.11/dist-packages (from pandas) (2.9.0.post0)\n",
            "Requirement already satisfied: charset-normalizer<4,>=2 in /usr/local/lib/python3.11/dist-packages (from requests) (3.4.2)\n",
            "Requirement already satisfied: idna<4,>=2.5 in /usr/local/lib/python3.11/dist-packages (from requests) (3.10)\n",
            "Requirement already satisfied: urllib3<3,>=1.21.1 in /usr/local/lib/python3.11/dist-packages (from requests) (2.4.0)\n",
            "Requirement already satisfied: certifi>=2017.4.17 in /usr/local/lib/python3.11/dist-packages (from requests) (2025.6.15)\n",
            "Requirement already satisfied: gitdb<5,>=4.0.1 in /usr/local/lib/python3.11/dist-packages (from gitpython>=3.1.29->dlt) (4.0.12)\n",
            "Requirement already satisfied: ply in /usr/local/lib/python3.11/dist-packages (from jsonpath-ng>=1.5.3->dlt) (3.11)\n",
            "Requirement already satisfied: six>=1.5 in /usr/local/lib/python3.11/dist-packages (from python-dateutil>=2.8.2->pandas) (1.17.0)\n",
            "Requirement already satisfied: types-setuptools>=69.1.0 in /usr/local/lib/python3.11/dist-packages (from requirements-parser>=0.5.0->dlt) (80.9.0.20250529)\n",
            "Requirement already satisfied: rich>=11.0.0 in /usr/local/lib/python3.11/dist-packages (from rich-argparse>=1.6.0->dlt) (13.9.4)\n",
            "Requirement already satisfied: smmap<6,>=3.0.1 in /usr/local/lib/python3.11/dist-packages (from gitdb<5,>=4.0.1->gitpython>=3.1.29->dlt) (5.0.2)\n",
            "Requirement already satisfied: markdown-it-py>=2.2.0 in /usr/local/lib/python3.11/dist-packages (from rich>=11.0.0->rich-argparse>=1.6.0->dlt) (3.0.0)\n",
            "Requirement already satisfied: pygments<3.0.0,>=2.13.0 in /usr/local/lib/python3.11/dist-packages (from rich>=11.0.0->rich-argparse>=1.6.0->dlt) (2.19.2)\n",
            "Requirement already satisfied: mdurl~=0.1 in /usr/local/lib/python3.11/dist-packages (from markdown-it-py>=2.2.0->rich>=11.0.0->rich-argparse>=1.6.0->dlt) (0.1.2)\n"
          ]
        }
      ]
    },
    {
      "cell_type": "markdown",
      "source": [
        "Fetch Data from CoinGecko API"
      ],
      "metadata": {
        "id": "tOstU3y42beM"
      }
    },
    {
      "cell_type": "code",
      "source": [
        "import requests\n",
        "\n",
        "url = \"https://api.coingecko.com/api/v3/coins/markets\"\n",
        "params = {\n",
        "    \"vs_currency\": \"usd\",\n",
        "    \"order\": \"market_cap_desc\",\n",
        "    \"per_page\": 10,\n",
        "    \"page\": 1\n",
        "}\n",
        "response = requests.get(url, params=params)\n",
        "data = response.json()\n",
        "data[:1]  # xem thử 1 item\n",
        "\n"
      ],
      "metadata": {
        "id": "BhkAqXlc3NoW"
      },
      "execution_count": null,
      "outputs": []
    },
    {
      "cell_type": "markdown",
      "source": [
        "Định nghĩa resource với dlt"
      ],
      "metadata": {
        "id": "-ygMrTwu42VL"
      }
    },
    {
      "cell_type": "code",
      "source": [
        "import dlt\n",
        "\n",
        "@dlt.resource\n",
        "def coins():\n",
        "    url = \"https://api.coingecko.com/api/v3/coins/markets\"\n",
        "    params = {\"vs_currency\": \"usd\", \"order\": \"market_cap_desc\", \"per_page\": 10, \"page\": 1}\n",
        "    yield requests.get(url, params=params).json()\n"
      ],
      "metadata": {
        "id": "rshqFSiB44Du"
      },
      "execution_count": 9,
      "outputs": []
    },
    {
      "cell_type": "markdown",
      "source": [
        "Tạo pipeline và ghi dữ liệu vào DuckDB"
      ],
      "metadata": {
        "id": "qJp4h-v85OEZ"
      }
    },
    {
      "cell_type": "code",
      "source": [
        "pipeline = dlt.pipeline(\n",
        "    pipeline_name=\"crypto_pipeline\",\n",
        "    destination=\"duckdb\",\n",
        "    dataset_name=\"crypto_data\"\n",
        ")\n",
        "\n",
        "load_info = pipeline.run(coins())\n",
        "print(load_info)\n"
      ],
      "metadata": {
        "collapsed": true,
        "id": "hGXfxlYh5PUA",
        "outputId": "6b695346-011a-40b5-dc78-c3944bcb55a2",
        "colab": {
          "base_uri": "https://localhost:8080/"
        }
      },
      "execution_count": 10,
      "outputs": [
        {
          "output_type": "stream",
          "name": "stderr",
          "text": [
            "2025-07-03 15:26:12,101|[WARNING]|385|131990784954368|dlt|validate.py|verify_normalized_table:57|In schema `crypto`: The following columns in table 'coins' did not receive any data during this load and therefore could not have their types inferred:\n",
            "  - roi\n",
            "\n",
            "Unless type hints are provided, these columns will not be materialized in the destination.\n",
            "One way to provide type hints is to use the 'columns' argument in the '@dlt.resource' decorator.  For example:\n",
            "\n",
            "@dlt.resource(columns={'roi': {'data_type': 'text'}})\n",
            "\n"
          ]
        },
        {
          "output_type": "stream",
          "name": "stdout",
          "text": [
            "Pipeline crypto_pipeline load step completed in 0.24 seconds\n",
            "1 load package(s) were loaded to destination duckdb and into dataset crypto_data\n",
            "The duckdb destination used duckdb:////content/crypto_pipeline.duckdb location to store data\n",
            "Load package 1751556371.9137156 is LOADED and contains no failed jobs\n"
          ]
        }
      ]
    },
    {
      "cell_type": "markdown",
      "source": [
        "Kiểm tra dữ liệu đã ghi vào DuckDB"
      ],
      "metadata": {
        "id": "4CHN5kpI5fn9"
      }
    },
    {
      "cell_type": "code",
      "source": [
        "import duckdb\n",
        "\n",
        "con = duckdb.connect(\"dlt_pipeline.duckdb\")\n",
        "con.sql(\"SELECT * FROM crypto_data.coins LIMIT 5\").df()\n"
      ],
      "metadata": {
        "collapsed": true,
        "id": "I0EPPXbh5gqj",
        "outputId": "c029a2ea-9510-49bd-f194-d358f82e64ea",
        "colab": {
          "base_uri": "https://localhost:8080/",
          "height": 228
        }
      },
      "execution_count": 11,
      "outputs": [
        {
          "output_type": "error",
          "ename": "InvalidInputException",
          "evalue": "Invalid Input Error: Python Object \"coins\" of type \"DltResource\" found on line \"/tmp/ipython-input-11-2369424038.py:4\" not suitable for replacement scans.\nMake sure that \"coins\" is either a pandas.DataFrame, duckdb.DuckDBPyRelation, pyarrow Table, Dataset, RecordBatchReader, Scanner, or NumPy ndarrays with supported format",
          "traceback": [
            "\u001b[0;31m---------------------------------------------------------------------------\u001b[0m",
            "\u001b[0;31mInvalidInputException\u001b[0m                     Traceback (most recent call last)",
            "\u001b[0;32m/tmp/ipython-input-11-2369424038.py\u001b[0m in \u001b[0;36m<cell line: 0>\u001b[0;34m()\u001b[0m\n\u001b[1;32m      2\u001b[0m \u001b[0;34m\u001b[0m\u001b[0m\n\u001b[1;32m      3\u001b[0m \u001b[0mcon\u001b[0m \u001b[0;34m=\u001b[0m \u001b[0mduckdb\u001b[0m\u001b[0;34m.\u001b[0m\u001b[0mconnect\u001b[0m\u001b[0;34m(\u001b[0m\u001b[0;34m\"dlt_pipeline.duckdb\"\u001b[0m\u001b[0;34m)\u001b[0m\u001b[0;34m\u001b[0m\u001b[0;34m\u001b[0m\u001b[0m\n\u001b[0;32m----> 4\u001b[0;31m \u001b[0mcon\u001b[0m\u001b[0;34m.\u001b[0m\u001b[0msql\u001b[0m\u001b[0;34m(\u001b[0m\u001b[0;34m\"SELECT * FROM crypto_data.coins LIMIT 5\"\u001b[0m\u001b[0;34m)\u001b[0m\u001b[0;34m.\u001b[0m\u001b[0mdf\u001b[0m\u001b[0;34m(\u001b[0m\u001b[0;34m)\u001b[0m\u001b[0;34m\u001b[0m\u001b[0;34m\u001b[0m\u001b[0m\n\u001b[0m",
            "\u001b[0;31mInvalidInputException\u001b[0m: Invalid Input Error: Python Object \"coins\" of type \"DltResource\" found on line \"/tmp/ipython-input-11-2369424038.py:4\" not suitable for replacement scans.\nMake sure that \"coins\" is either a pandas.DataFrame, duckdb.DuckDBPyRelation, pyarrow Table, Dataset, RecordBatchReader, Scanner, or NumPy ndarrays with supported format"
          ]
        }
      ]
    },
    {
      "cell_type": "markdown",
      "source": [
        "Extracting data with dlt: dlt RestAPI Client"
      ],
      "metadata": {
        "id": "H4of5W8I7cxG"
      }
    },
    {
      "cell_type": "code",
      "source": [
        "from dlt.sources.helpers.rest_client import RESTClient\n",
        "from dlt.sources.helpers.rest_client.auth import BearerTokenAuth\n",
        "from dlt.sources.helpers.rest_client.paginators import JSONLinkPaginator\n",
        "\n",
        "client = RESTClient(\n",
        "    base_url=\"https://api.example.com\",\n",
        "    auth=BearerTokenAuth(token=\"YOUR_TOKEN\"),\n",
        "    paginator=JSONLinkPaginator(next_url_path=\"pagination.next\"),\n",
        "    data_selector=\"data\"\n",
        ")\n",
        "\n",
        "for page in client.paginate(\"/endpoint\"):\n",
        "    handle(page)  # page là dữ liệu JSON đã chuẩn hóa\n"
      ],
      "metadata": {
        "id": "IJYLofsy7f26"
      },
      "execution_count": null,
      "outputs": []
    },
    {
      "cell_type": "markdown",
      "source": [],
      "metadata": {
        "id": "8yeFofdH7jxs"
      }
    }
  ],
  "metadata": {
    "colab": {
      "name": "Chào mừng bạn đến với Colab",
      "toc_visible": true,
      "provenance": [],
      "include_colab_link": true
    },
    "kernelspec": {
      "display_name": "Python 3",
      "name": "python3"
    }
  },
  "nbformat": 4,
  "nbformat_minor": 0
}