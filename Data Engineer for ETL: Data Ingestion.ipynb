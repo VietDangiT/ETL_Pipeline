{
  "cells": [
    {
      "cell_type": "markdown",
      "metadata": {
        "id": "view-in-github",
        "colab_type": "text"
      },
      "source": [
        "<a href=\"https://colab.research.google.com/github/VietDangiT/ETL_Pipeline/blob/main/Data%20Engineer%20for%20ETL%3A%20Data%20Ingestion.ipynb\" target=\"_parent\"><img src=\"https://colab.research.google.com/assets/colab-badge.svg\" alt=\"Open In Colab\"/></a>"
      ]
    },
    {
      "cell_type": "markdown",
      "source": [
        "# Ingest Data using dlt and Python"
      ],
      "metadata": {
        "id": "zg2SsxiNxbml"
      }
    },
    {
      "cell_type": "code",
      "source": [
        "!pip install dlt duckdb pandas requests\n"
      ],
      "metadata": {
        "id": "NqPcF5t1136u",
        "outputId": "0e16fe2f-6ea7-44e3-8712-f36ca5e60b67",
        "colab": {
          "base_uri": "https://localhost:8080/"
        }
      },
      "execution_count": 2,
      "outputs": [
        {
          "output_type": "stream",
          "name": "stdout",
          "text": [
            "Requirement already satisfied: dlt in /usr/local/lib/python3.11/dist-packages (1.12.3)\n",
            "Requirement already satisfied: duckdb in /usr/local/lib/python3.11/dist-packages (1.2.2)\n",
            "Requirement already satisfied: pandas in /usr/local/lib/python3.11/dist-packages (2.2.2)\n",
            "Requirement already satisfied: requests in /usr/local/lib/python3.11/dist-packages (2.32.3)\n",
            "Requirement already satisfied: click>=7.1 in /usr/local/lib/python3.11/dist-packages (from dlt) (8.2.1)\n",
            "Requirement already satisfied: fsspec>=2022.4.0 in /usr/local/lib/python3.11/dist-packages (from dlt) (2025.3.2)\n",
            "Requirement already satisfied: gitpython>=3.1.29 in /usr/local/lib/python3.11/dist-packages (from dlt) (3.1.44)\n",
            "Requirement already satisfied: giturlparse>=0.10.0 in /usr/local/lib/python3.11/dist-packages (from dlt) (0.12.0)\n",
            "Requirement already satisfied: hexbytes>=0.2.2 in /usr/local/lib/python3.11/dist-packages (from dlt) (1.3.1)\n",
            "Requirement already satisfied: humanize>=4.4.0 in /usr/local/lib/python3.11/dist-packages (from dlt) (4.12.3)\n",
            "Requirement already satisfied: jsonpath-ng>=1.5.3 in /usr/local/lib/python3.11/dist-packages (from dlt) (1.7.0)\n",
            "Requirement already satisfied: orjson!=3.10.1,!=3.9.11,!=3.9.12,!=3.9.13,!=3.9.14,<4,>=3.6.7 in /usr/local/lib/python3.11/dist-packages (from dlt) (3.10.18)\n",
            "Requirement already satisfied: packaging>=21.1 in /usr/local/lib/python3.11/dist-packages (from dlt) (24.2)\n",
            "Requirement already satisfied: pathvalidate>=2.5.2 in /usr/local/lib/python3.11/dist-packages (from dlt) (3.3.1)\n",
            "Requirement already satisfied: pendulum>=2.1.2 in /usr/local/lib/python3.11/dist-packages (from dlt) (3.1.0)\n",
            "Requirement already satisfied: pluggy>=1.3.0 in /usr/local/lib/python3.11/dist-packages (from dlt) (1.6.0)\n",
            "Requirement already satisfied: pytz>=2022.6 in /usr/local/lib/python3.11/dist-packages (from dlt) (2025.2)\n",
            "Requirement already satisfied: pyyaml>=5.4.1 in /usr/local/lib/python3.11/dist-packages (from dlt) (6.0.2)\n",
            "Requirement already satisfied: requirements-parser>=0.5.0 in /usr/local/lib/python3.11/dist-packages (from dlt) (0.9.0)\n",
            "Requirement already satisfied: rich-argparse>=1.6.0 in /usr/local/lib/python3.11/dist-packages (from dlt) (1.7.1)\n",
            "Requirement already satisfied: semver>=3.0.0 in /usr/local/lib/python3.11/dist-packages (from dlt) (3.0.4)\n",
            "Requirement already satisfied: setuptools>=65.6.0 in /usr/local/lib/python3.11/dist-packages (from dlt) (75.2.0)\n",
            "Requirement already satisfied: simplejson>=3.17.5 in /usr/local/lib/python3.11/dist-packages (from dlt) (3.20.1)\n",
            "Requirement already satisfied: sqlglot>=25.4.0 in /usr/local/lib/python3.11/dist-packages (from dlt) (25.20.2)\n",
            "Requirement already satisfied: tenacity>=8.0.2 in /usr/local/lib/python3.11/dist-packages (from dlt) (8.5.0)\n",
            "Requirement already satisfied: tomlkit>=0.11.3 in /usr/local/lib/python3.11/dist-packages (from dlt) (0.13.3)\n",
            "Requirement already satisfied: typing-extensions>=4.8.0 in /usr/local/lib/python3.11/dist-packages (from dlt) (4.14.0)\n",
            "Requirement already satisfied: tzdata>=2022.1 in /usr/local/lib/python3.11/dist-packages (from dlt) (2025.2)\n",
            "Requirement already satisfied: numpy>=1.23.2 in /usr/local/lib/python3.11/dist-packages (from pandas) (2.0.2)\n",
            "Requirement already satisfied: python-dateutil>=2.8.2 in /usr/local/lib/python3.11/dist-packages (from pandas) (2.9.0.post0)\n",
            "Requirement already satisfied: charset-normalizer<4,>=2 in /usr/local/lib/python3.11/dist-packages (from requests) (3.4.2)\n",
            "Requirement already satisfied: idna<4,>=2.5 in /usr/local/lib/python3.11/dist-packages (from requests) (3.10)\n",
            "Requirement already satisfied: urllib3<3,>=1.21.1 in /usr/local/lib/python3.11/dist-packages (from requests) (2.4.0)\n",
            "Requirement already satisfied: certifi>=2017.4.17 in /usr/local/lib/python3.11/dist-packages (from requests) (2025.6.15)\n",
            "Requirement already satisfied: gitdb<5,>=4.0.1 in /usr/local/lib/python3.11/dist-packages (from gitpython>=3.1.29->dlt) (4.0.12)\n",
            "Requirement already satisfied: ply in /usr/local/lib/python3.11/dist-packages (from jsonpath-ng>=1.5.3->dlt) (3.11)\n",
            "Requirement already satisfied: six>=1.5 in /usr/local/lib/python3.11/dist-packages (from python-dateutil>=2.8.2->pandas) (1.17.0)\n",
            "Requirement already satisfied: types-setuptools>=69.1.0 in /usr/local/lib/python3.11/dist-packages (from requirements-parser>=0.5.0->dlt) (80.9.0.20250529)\n",
            "Requirement already satisfied: rich>=11.0.0 in /usr/local/lib/python3.11/dist-packages (from rich-argparse>=1.6.0->dlt) (13.9.4)\n",
            "Requirement already satisfied: smmap<6,>=3.0.1 in /usr/local/lib/python3.11/dist-packages (from gitdb<5,>=4.0.1->gitpython>=3.1.29->dlt) (5.0.2)\n",
            "Requirement already satisfied: markdown-it-py>=2.2.0 in /usr/local/lib/python3.11/dist-packages (from rich>=11.0.0->rich-argparse>=1.6.0->dlt) (3.0.0)\n",
            "Requirement already satisfied: pygments<3.0.0,>=2.13.0 in /usr/local/lib/python3.11/dist-packages (from rich>=11.0.0->rich-argparse>=1.6.0->dlt) (2.19.2)\n",
            "Requirement already satisfied: mdurl~=0.1 in /usr/local/lib/python3.11/dist-packages (from markdown-it-py>=2.2.0->rich>=11.0.0->rich-argparse>=1.6.0->dlt) (0.1.2)\n"
          ]
        }
      ]
    },
    {
      "cell_type": "markdown",
      "source": [
        "Fetch Data from CoinGecko API"
      ],
      "metadata": {
        "id": "tOstU3y42beM"
      }
    },
    {
      "cell_type": "code",
      "source": [
        "import requests\n",
        "\n",
        "url = \"https://api.coingecko.com/api/v3/coins/markets\"\n",
        "params = {\n",
        "    \"vs_currency\": \"usd\",\n",
        "    \"order\": \"market_cap_desc\",\n",
        "    \"per_page\": 10,\n",
        "    \"page\": 1\n",
        "}\n",
        "response = requests.get(url, params=params)\n",
        "data = response.json()\n",
        "data[:1]  # xem thử 1 item\n"
      ],
      "metadata": {
        "id": "BhkAqXlc3NoW",
        "outputId": "1b88f9c8-cb70-49ec-e7a4-773bc239dbc9",
        "colab": {
          "base_uri": "https://localhost:8080/"
        }
      },
      "execution_count": 3,
      "outputs": [
        {
          "output_type": "execute_result",
          "data": {
            "text/plain": [
              "[{'id': 'bitcoin',\n",
              "  'symbol': 'btc',\n",
              "  'name': 'Bitcoin',\n",
              "  'image': 'https://coin-images.coingecko.com/coins/images/1/large/bitcoin.png?1696501400',\n",
              "  'current_price': 109491,\n",
              "  'market_cap': 2177610000867,\n",
              "  'market_cap_rank': 1,\n",
              "  'fully_diluted_valuation': 2177610000867,\n",
              "  'total_volume': 37640367601,\n",
              "  'high_24h': 110386,\n",
              "  'low_24h': 108309,\n",
              "  'price_change_24h': 1046.99,\n",
              "  'price_change_percentage_24h': 0.96546,\n",
              "  'market_cap_change_24h': 22342678026,\n",
              "  'market_cap_change_percentage_24h': 1.03665,\n",
              "  'circulating_supply': 19886981.0,\n",
              "  'total_supply': 19886981.0,\n",
              "  'max_supply': 21000000.0,\n",
              "  'ath': 111814,\n",
              "  'ath_change_percentage': -1.86831,\n",
              "  'ath_date': '2025-05-22T18:41:28.492Z',\n",
              "  'atl': 67.81,\n",
              "  'atl_change_percentage': 161714.9921,\n",
              "  'atl_date': '2013-07-06T00:00:00.000Z',\n",
              "  'roi': None,\n",
              "  'last_updated': '2025-07-03T15:16:54.547Z'}]"
            ]
          },
          "metadata": {},
          "execution_count": 3
        }
      ]
    }
  ],
  "metadata": {
    "colab": {
      "name": "Chào mừng bạn đến với Colab",
      "toc_visible": true,
      "provenance": [],
      "include_colab_link": true
    },
    "kernelspec": {
      "display_name": "Python 3",
      "name": "python3"
    }
  },
  "nbformat": 4,
  "nbformat_minor": 0
}